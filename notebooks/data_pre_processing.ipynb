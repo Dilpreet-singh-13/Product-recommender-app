{
 "cells": [
  {
   "metadata": {},
   "cell_type": "markdown",
   "source": "## Data Loading and Insights",
   "id": "597185e1e538e88c"
  },
  {
   "cell_type": "code",
   "id": "initial_id",
   "metadata": {
    "collapsed": true,
    "ExecuteTime": {
     "end_time": "2025-10-19T12:53:05.305560Z",
     "start_time": "2025-10-19T12:53:04.157601Z"
    }
   },
   "source": [
    "import ast\n",
    "import re\n",
    "\n",
    "import pandas as pd"
   ],
   "outputs": [],
   "execution_count": 1
  },
  {
   "metadata": {
    "ExecuteTime": {
     "end_time": "2025-10-19T12:53:05.390531Z",
     "start_time": "2025-10-19T12:53:05.330192Z"
    }
   },
   "cell_type": "code",
   "source": [
    "DATASET_PATH = \"../data/product_data.csv\"\n",
    "df = pd.read_csv(DATASET_PATH)\n",
    "df.head()"
   ],
   "id": "c63708da8cefa55a",
   "outputs": [
    {
     "data": {
      "text/plain": [
       "                                               title            brand  \\\n",
       "0  GOYMFK 1pc Free Standing Shoe Rack, Multi-laye...           GOYMFK   \n",
       "1  subrtex Leather ding Room, Dining Chairs Set o...          subrtex   \n",
       "2  Plant Repotting Mat MUYETOL Waterproof Transpl...          MUYETOL   \n",
       "3  Pickleball Doormat, Welcome Doormat Absorbent ...          VEWETOL   \n",
       "4  JOIN IRON Foldable TV Trays for Eating Set of ...  JOIN IRON Store   \n",
       "\n",
       "                                         description   price  \\\n",
       "0  multiple shoes, coats, hats, and other items E...  $24.99   \n",
       "1                     subrtex Dining chairs Set of 2     NaN   \n",
       "2                                                NaN   $5.98   \n",
       "3  The decorative doormat features a subtle textu...  $13.99   \n",
       "4  Set of Four Folding Trays With Matching Storag...  $89.99   \n",
       "\n",
       "                                          categories  \\\n",
       "0  ['Home & Kitchen', 'Storage & Organization', '...   \n",
       "1  ['Home & Kitchen', 'Furniture', 'Dining Room F...   \n",
       "2  ['Patio, Lawn & Garden', 'Outdoor Décor', 'Doo...   \n",
       "3  ['Patio, Lawn & Garden', 'Outdoor Décor', 'Doo...   \n",
       "4  ['Home & Kitchen', 'Furniture', 'Game & Recrea...   \n",
       "\n",
       "                                              images           manufacturer  \\\n",
       "0  ['https://m.media-amazon.com/images/I/416WaLx1...                 GOYMFK   \n",
       "1  ['https://m.media-amazon.com/images/I/31SejUEW...  Subrtex Houseware INC   \n",
       "2  ['https://m.media-amazon.com/images/I/41RgefVq...                MUYETOL   \n",
       "3  ['https://m.media-amazon.com/images/I/61vz1Igl...              Contrence   \n",
       "4  ['https://m.media-amazon.com/images/I/41p4d4VJ...                    NaN   \n",
       "\n",
       "         package_dimensions country_of_origin      material          color  \\\n",
       "0  2.36\"D x 7.87\"W x 21.6\"H             China         Metal          White   \n",
       "1      18.5\"D x 16\"W x 35\"H               NaN        Sponge          Black   \n",
       "2           26.8\"L x 26.8\"W               NaN  Polyethylene          Green   \n",
       "3               24\"L x 16\"W               NaN        Rubber          A5589   \n",
       "4    18.9\"D x 14.2\"W x 26\"H               NaN          Iron  Grey Set of 4   \n",
       "\n",
       "                                uniq_id  \n",
       "0  02593e81-5c09-5069-8516-b0b29f439ded  \n",
       "1  5938d217-b8c5-5d3e-b1cf-e28e340f292e  \n",
       "2  b2ede786-3f51-5a45-9a5b-bcf856958cd8  \n",
       "3  8fd9377b-cfa6-5f10-835c-6b8eca2816b5  \n",
       "4  bdc9aa30-9439-50dc-8e89-213ea211d66a  "
      ],
      "text/html": [
       "<div>\n",
       "<style scoped>\n",
       "    .dataframe tbody tr th:only-of-type {\n",
       "        vertical-align: middle;\n",
       "    }\n",
       "\n",
       "    .dataframe tbody tr th {\n",
       "        vertical-align: top;\n",
       "    }\n",
       "\n",
       "    .dataframe thead th {\n",
       "        text-align: right;\n",
       "    }\n",
       "</style>\n",
       "<table border=\"1\" class=\"dataframe\">\n",
       "  <thead>\n",
       "    <tr style=\"text-align: right;\">\n",
       "      <th></th>\n",
       "      <th>title</th>\n",
       "      <th>brand</th>\n",
       "      <th>description</th>\n",
       "      <th>price</th>\n",
       "      <th>categories</th>\n",
       "      <th>images</th>\n",
       "      <th>manufacturer</th>\n",
       "      <th>package_dimensions</th>\n",
       "      <th>country_of_origin</th>\n",
       "      <th>material</th>\n",
       "      <th>color</th>\n",
       "      <th>uniq_id</th>\n",
       "    </tr>\n",
       "  </thead>\n",
       "  <tbody>\n",
       "    <tr>\n",
       "      <th>0</th>\n",
       "      <td>GOYMFK 1pc Free Standing Shoe Rack, Multi-laye...</td>\n",
       "      <td>GOYMFK</td>\n",
       "      <td>multiple shoes, coats, hats, and other items E...</td>\n",
       "      <td>$24.99</td>\n",
       "      <td>['Home &amp; Kitchen', 'Storage &amp; Organization', '...</td>\n",
       "      <td>['https://m.media-amazon.com/images/I/416WaLx1...</td>\n",
       "      <td>GOYMFK</td>\n",
       "      <td>2.36\"D x 7.87\"W x 21.6\"H</td>\n",
       "      <td>China</td>\n",
       "      <td>Metal</td>\n",
       "      <td>White</td>\n",
       "      <td>02593e81-5c09-5069-8516-b0b29f439ded</td>\n",
       "    </tr>\n",
       "    <tr>\n",
       "      <th>1</th>\n",
       "      <td>subrtex Leather ding Room, Dining Chairs Set o...</td>\n",
       "      <td>subrtex</td>\n",
       "      <td>subrtex Dining chairs Set of 2</td>\n",
       "      <td>NaN</td>\n",
       "      <td>['Home &amp; Kitchen', 'Furniture', 'Dining Room F...</td>\n",
       "      <td>['https://m.media-amazon.com/images/I/31SejUEW...</td>\n",
       "      <td>Subrtex Houseware INC</td>\n",
       "      <td>18.5\"D x 16\"W x 35\"H</td>\n",
       "      <td>NaN</td>\n",
       "      <td>Sponge</td>\n",
       "      <td>Black</td>\n",
       "      <td>5938d217-b8c5-5d3e-b1cf-e28e340f292e</td>\n",
       "    </tr>\n",
       "    <tr>\n",
       "      <th>2</th>\n",
       "      <td>Plant Repotting Mat MUYETOL Waterproof Transpl...</td>\n",
       "      <td>MUYETOL</td>\n",
       "      <td>NaN</td>\n",
       "      <td>$5.98</td>\n",
       "      <td>['Patio, Lawn &amp; Garden', 'Outdoor Décor', 'Doo...</td>\n",
       "      <td>['https://m.media-amazon.com/images/I/41RgefVq...</td>\n",
       "      <td>MUYETOL</td>\n",
       "      <td>26.8\"L x 26.8\"W</td>\n",
       "      <td>NaN</td>\n",
       "      <td>Polyethylene</td>\n",
       "      <td>Green</td>\n",
       "      <td>b2ede786-3f51-5a45-9a5b-bcf856958cd8</td>\n",
       "    </tr>\n",
       "    <tr>\n",
       "      <th>3</th>\n",
       "      <td>Pickleball Doormat, Welcome Doormat Absorbent ...</td>\n",
       "      <td>VEWETOL</td>\n",
       "      <td>The decorative doormat features a subtle textu...</td>\n",
       "      <td>$13.99</td>\n",
       "      <td>['Patio, Lawn &amp; Garden', 'Outdoor Décor', 'Doo...</td>\n",
       "      <td>['https://m.media-amazon.com/images/I/61vz1Igl...</td>\n",
       "      <td>Contrence</td>\n",
       "      <td>24\"L x 16\"W</td>\n",
       "      <td>NaN</td>\n",
       "      <td>Rubber</td>\n",
       "      <td>A5589</td>\n",
       "      <td>8fd9377b-cfa6-5f10-835c-6b8eca2816b5</td>\n",
       "    </tr>\n",
       "    <tr>\n",
       "      <th>4</th>\n",
       "      <td>JOIN IRON Foldable TV Trays for Eating Set of ...</td>\n",
       "      <td>JOIN IRON Store</td>\n",
       "      <td>Set of Four Folding Trays With Matching Storag...</td>\n",
       "      <td>$89.99</td>\n",
       "      <td>['Home &amp; Kitchen', 'Furniture', 'Game &amp; Recrea...</td>\n",
       "      <td>['https://m.media-amazon.com/images/I/41p4d4VJ...</td>\n",
       "      <td>NaN</td>\n",
       "      <td>18.9\"D x 14.2\"W x 26\"H</td>\n",
       "      <td>NaN</td>\n",
       "      <td>Iron</td>\n",
       "      <td>Grey Set of 4</td>\n",
       "      <td>bdc9aa30-9439-50dc-8e89-213ea211d66a</td>\n",
       "    </tr>\n",
       "  </tbody>\n",
       "</table>\n",
       "</div>"
      ]
     },
     "execution_count": 2,
     "metadata": {},
     "output_type": "execute_result"
    }
   ],
   "execution_count": 2
  },
  {
   "metadata": {},
   "cell_type": "markdown",
   "source": [
    "From a quick preview we learn a few things:\n",
    "- Prices do have null values\n",
    "- Prices need to be processed and the `$` sign needs to be removed\n",
    "- categories and images need to be handled with care as they might have stringified lists eg \"[]\""
   ],
   "id": "f7ccb10b3787c179"
  },
  {
   "metadata": {
    "ExecuteTime": {
     "end_time": "2025-10-19T12:53:39.082510Z",
     "start_time": "2025-10-19T12:53:39.068199Z"
    }
   },
   "cell_type": "code",
   "outputs": [
    {
     "data": {
      "text/plain": [
       "title                   0\n",
       "brand                   0\n",
       "description           153\n",
       "price                  97\n",
       "categories              0\n",
       "images                  0\n",
       "manufacturer          107\n",
       "package_dimensions      6\n",
       "country_of_origin     187\n",
       "material               94\n",
       "color                  47\n",
       "uniq_id                 0\n",
       "dtype: int64"
      ]
     },
     "execution_count": 3,
     "metadata": {},
     "output_type": "execute_result"
    }
   ],
   "execution_count": 3,
   "source": [
    "# Check for null values\n",
    "df.isnull().sum()"
   ],
   "id": "19f8147e7f14550d"
  },
  {
   "metadata": {},
   "cell_type": "markdown",
   "source": "Some of the columns have null values, but we don't need to worry about title, uniq_id, images etc to be null",
   "id": "255654cf55662042"
  },
  {
   "metadata": {},
   "cell_type": "markdown",
   "source": [
    "---\n",
    "## Pre Processing"
   ],
   "id": "4784cca8c2e93338"
  },
  {
   "metadata": {},
   "cell_type": "code",
   "outputs": [],
   "execution_count": null,
   "source": [
    "def parse_price(price_str):\n",
    "    \"\"\"Convert price like '$59.99' or '$1,299' -> float or None\"\"\"\n",
    "    if not isinstance(price_str, str):\n",
    "        return None\n",
    "    price_str = price_str.strip()\n",
    "    match = re.search(r\"[\\d,.]+\", price_str)\n",
    "    if match:\n",
    "        try:\n",
    "            return float(match.group(0).replace(\",\", \"\"))\n",
    "        except ValueError:\n",
    "            return None\n",
    "    return None"
   ],
   "id": "f65ede13480bdca9"
  },
  {
   "metadata": {},
   "cell_type": "code",
   "outputs": [],
   "execution_count": null,
   "source": [
    "def parse_list_column(value):\n",
    "    \"\"\"Convert stringified lists like \"['a', 'b']\" into actual Python lists\"\"\"\n",
    "    if isinstance(value, list):\n",
    "        return [str(v).strip() for v in value]\n",
    "    if isinstance(value, str):\n",
    "        try:\n",
    "            parsed = ast.literal_eval(value)\n",
    "            if isinstance(parsed, list):\n",
    "                return [str(v).strip() for v in parsed]\n",
    "            else:\n",
    "                return [value.strip()]\n",
    "        except (ValueError, SyntaxError):\n",
    "            return [value.strip()]\n",
    "    return []"
   ],
   "id": "cee633252f5e3f7a"
  },
  {
   "metadata": {},
   "cell_type": "markdown",
   "source": [
    "We don't need much pre processing as we are using a Deep Learning (DL) approach, DL models can take data as such.\n",
    "\n",
    "The actual preprocessing is done inside the `scripts/preprocessing_data.py`"
   ],
   "id": "b0b957c87d13017a"
  }
 ],
 "metadata": {
  "kernelspec": {
   "display_name": "Python 3",
   "language": "python",
   "name": "python3"
  },
  "language_info": {
   "codemirror_mode": {
    "name": "ipython",
    "version": 2
   },
   "file_extension": ".py",
   "mimetype": "text/x-python",
   "name": "python",
   "nbconvert_exporter": "python",
   "pygments_lexer": "ipython2",
   "version": "2.7.6"
  }
 },
 "nbformat": 4,
 "nbformat_minor": 5
}
